{
 "cells": [
  {
   "cell_type": "markdown",
   "metadata": {},
   "source": [
    "## Problem Definition: We want: \n",
    "## A) To store key information generally pulled from mongo database in prepostRSA.ipynb directly within its associated project folder\n",
    "## B) to rewrite relevant prepostRSA.ipynb code such that it pulls said information from the project folder rather than the mongo database."
   ]
  },
  {
   "cell_type": "markdown",
   "metadata": {},
   "source": [
    "## 1. Setup: Import key packages, ignore warnings, establish database connection"
   ]
  },
  {
   "cell_type": "code",
   "execution_count": 8,
   "metadata": {
    "collapsed": true
   },
   "outputs": [],
   "source": [
    "import warnings\n",
    "warnings.filterwarnings('ignore')"
   ]
  },
  {
   "cell_type": "code",
   "execution_count": 16,
   "metadata": {
    "collapsed": true
   },
   "outputs": [],
   "source": [
    "import os\n",
    "import json"
   ]
  },
  {
   "cell_type": "code",
   "execution_count": 32,
   "metadata": {
    "collapsed": true
   },
   "outputs": [],
   "source": [
    "# original behavioral data from database\n",
    "import pymongo as pm\n",
    "from pymongo import MongoClient\n",
    "conn = MongoClient('localhost', 20809)\n",
    "\n",
    "DBNAME = conn['during_morph_drawing_recognition']\n",
    "COLNAME = DBNAME['fmri3.files']\n",
    "coll=COLNAME\n",
    "DATADIR = 'neurosketch_data_3'"
   ]
  },
  {
   "cell_type": "markdown",
   "metadata": {},
   "source": [
    "\n",
    "\n",
    "## 2. Answer Key Question: how is the database used in the original prepostRSA file?"
   ]
  },
  {
   "cell_type": "code",
   "execution_count": 11,
   "metadata": {
    "collapsed": true
   },
   "outputs": [],
   "source": [
    "# how is this behavioral data used in the original prepostRSA file?\n",
    "# sole function :\n",
    "def extract_condition_by_voxel_run_mat(this_sub,run_num, roi):\n",
    "    w = this_sub\n",
    "    these = coll.find({'wID': w}).sort('trialNum')   \n",
    "    versionNum = these[0]['versionNum']\n",
    "\n",
    "    design = [i for i in mdtd if i['version'] == int(versionNum)] # find which axes belong to which condition\n",
    "    trained = design[0]['trained']\n",
    "    near = design[0]['near']\n",
    "    far1 = design[0]['far1']\n",
    "    far2 = design[0]['far2']\n",
    "\n",
    "    Tep = getEndpoints(trained)\n",
    "    Nep = getEndpoints(near)\n",
    "    condorder = Tep + Nep\n",
    "\n",
    "    slot1 = load_data_and_apply_mask(this_sub,run_num,roi,obj2cope[condorder[0]])\n",
    "    slot2 = load_data_and_apply_mask(this_sub,run_num,roi,obj2cope[condorder[1]])\n",
    "    slot3 = load_data_and_apply_mask(this_sub,run_num,roi,obj2cope[condorder[2]])\n",
    "    slot4 = load_data_and_apply_mask(this_sub,run_num,roi,obj2cope[condorder[3]])\n",
    "    return np.vstack((slot1,slot2,slot3,slot4))"
   ]
  },
  {
   "cell_type": "markdown",
   "metadata": {},
   "source": [
    "The sole piece of information derived from the mongo database for any subject is these[0]['versionNum'] where 'these' refers to coll.find({'wID': w}).sort('trialNum') and col is defined in setup."
   ]
  },
  {
   "cell_type": "markdown",
   "metadata": {},
   "source": [
    "## 3. Create dictionary of every possible this_sub / these[0]['versionNum'] pairing."
   ]
  },
  {
   "cell_type": "code",
   "execution_count": 12,
   "metadata": {},
   "outputs": [
    {
     "name": "stdout",
     "output_type": "stream",
     "text": [
      "['0110171_neurosketch', '0110172_neurosketch', '0111171_neurosketch', '0112171_neurosketch', '0112172_neurosketch', '0112173_neurosketch', '0113171_neurosketch', '0115172_neurosketch', '0115174_neurosketch', '0117171_neurosketch', '0118171_neurosketch', '0118172_neurosketch', '0119171_neurosketch', '0119172_neurosketch', '0119173_neurosketch', '0119174_neurosketch', '0120171_neurosketch', '0120172_neurosketch', '0120173_neurosketch', '0123171_neurosketch', '0123173_neurosketch', '0124171_neurosketch', '0125171_neurosketch', '0125172_neurosketch', '1121161_neurosketch', '1130161_neurosketch', '1201161_neurosketch', '1202161_neurosketch', '1203161_neurosketch', '1206161_neurosketch', '1206162_neurosketch', '1206163_neurosketch', '1207162_neurosketch']\n",
      "33 subjects\n"
     ]
    }
   ],
   "source": [
    "## get list of subject directories\n",
    "proj_dir = '/home/jefan/sketchloop02/'\n",
    "contents_dir = os.listdir(proj_dir)\n",
    "\n",
    "sub_dirs = []\n",
    "for i in contents_dir:\n",
    "    try:\n",
    "        if i.split('_')[1]=='neurosketch':\n",
    "            sub_dirs.append(i)\n",
    "    except:\n",
    "        pass\n",
    "\n",
    "sub_dirs = sorted(sub_dirs)\n",
    "\n",
    "# issue with 1207161\n",
    "sub_dirs = [s for s in sub_dirs if s != '1207161_neurosketch']\n",
    "\n",
    "print(sub_dirs)\n",
    "print(str(len(sub_dirs)) + ' subjects')"
   ]
  },
  {
   "cell_type": "code",
   "execution_count": 15,
   "metadata": {},
   "outputs": [
    {
     "name": "stdout",
     "output_type": "stream",
     "text": [
      "0110171_neurosketch 18\n",
      "0110172_neurosketch 21\n",
      "0111171_neurosketch 24\n",
      "0112171_neurosketch 27\n",
      "0112172_neurosketch 30\n",
      "0112173_neurosketch 33\n",
      "0113171_neurosketch 21\n",
      "0115172_neurosketch 24\n",
      "0115174_neurosketch 27\n",
      "0117171_neurosketch 30\n",
      "0118171_neurosketch 33\n",
      "0118172_neurosketch 33\n",
      "0119171_neurosketch 18\n",
      "0119172_neurosketch 21\n",
      "0119173_neurosketch 24\n",
      "0119174_neurosketch 27\n",
      "0120171_neurosketch 30\n",
      "0120172_neurosketch 33\n",
      "0120173_neurosketch 18\n",
      "0123171_neurosketch 24\n",
      "0123173_neurosketch 30\n",
      "0124171_neurosketch 33\n",
      "0125171_neurosketch 27\n",
      "0125172_neurosketch 21\n",
      "1121161_neurosketch 24\n",
      "1130161_neurosketch 27\n",
      "1201161_neurosketch 30\n",
      "1202161_neurosketch 21\n",
      "1203161_neurosketch 33\n",
      "1206161_neurosketch 18\n",
      "1206162_neurosketch 21\n",
      "1206163_neurosketch 24\n",
      "1207162_neurosketch 30\n"
     ]
    }
   ],
   "source": [
    "# pair subject with versionNum using a dictionary\n",
    "version_dict = {}\n",
    "\n",
    "# scan through each subject\n",
    "for s in sub_dirs:\n",
    "    # find its version number\n",
    "    these = coll.find({'wID': s}).sort('trialNum')   \n",
    "    versionNum = these[0]['versionNum']\n",
    "    \n",
    "    # pair\n",
    "    print(s, versionNum)\n",
    "    version_dict[s] = versionNum"
   ]
  },
  {
   "cell_type": "markdown",
   "metadata": {},
   "source": [
    "## 4. Store output as json file for ready use"
   ]
  },
  {
   "cell_type": "code",
   "execution_count": 17,
   "metadata": {
    "collapsed": true
   },
   "outputs": [],
   "source": [
    "with open('versionNums.json', 'w') as fp:\n",
    "    json.dump(version_dict, fp)"
   ]
  },
  {
   "cell_type": "markdown",
   "metadata": {},
   "source": [
    "## 5. Finally, modify code so that extract_condition_by_voxel_run_mat() so that it accesses the json file instead of a mongo database for relevant info."
   ]
  },
  {
   "cell_type": "code",
   "execution_count": 30,
   "metadata": {},
   "outputs": [
    {
     "data": {
      "text/plain": [
       "{'0110171_neurosketch': '18',\n",
       " '0110172_neurosketch': '21',\n",
       " '0111171_neurosketch': '24',\n",
       " '0112171_neurosketch': '27',\n",
       " '0112172_neurosketch': '30',\n",
       " '0112173_neurosketch': '33',\n",
       " '0113171_neurosketch': '21',\n",
       " '0115172_neurosketch': '24',\n",
       " '0115174_neurosketch': '27',\n",
       " '0117171_neurosketch': '30',\n",
       " '0118171_neurosketch': '33',\n",
       " '0118172_neurosketch': '33',\n",
       " '0119171_neurosketch': '18',\n",
       " '0119172_neurosketch': '21',\n",
       " '0119173_neurosketch': '24',\n",
       " '0119174_neurosketch': '27',\n",
       " '0120171_neurosketch': '30',\n",
       " '0120172_neurosketch': '33',\n",
       " '0120173_neurosketch': '18',\n",
       " '0123171_neurosketch': '24',\n",
       " '0123173_neurosketch': '30',\n",
       " '0124171_neurosketch': '33',\n",
       " '0125171_neurosketch': '27',\n",
       " '0125172_neurosketch': '21',\n",
       " '1121161_neurosketch': '24',\n",
       " '1130161_neurosketch': '27',\n",
       " '1201161_neurosketch': '30',\n",
       " '1202161_neurosketch': '21',\n",
       " '1203161_neurosketch': '33',\n",
       " '1206161_neurosketch': '18',\n",
       " '1206162_neurosketch': '21',\n",
       " '1206163_neurosketch': '24',\n",
       " '1207162_neurosketch': '30'}"
      ]
     },
     "execution_count": 30,
     "metadata": {},
     "output_type": "execute_result"
    }
   ],
   "source": [
    "# behavioral data from database\n",
    "import json\n",
    "with open('versionNums.json') as json_data:\n",
    "    coll = json.load(json_data)\n",
    "coll"
   ]
  },
  {
   "cell_type": "code",
   "execution_count": 33,
   "metadata": {
    "collapsed": true
   },
   "outputs": [],
   "source": [
    "#also need to modify this\n",
    "def extract_condition_by_voxel_run_mat(this_sub,run_num, roi):\n",
    "    versionNum = coll[this_sub]\n",
    "\n",
    "    design = [i for i in mdtd if i['version'] == int(versionNum)] # find which axes belong to which condition\n",
    "    trained = design[0]['trained']\n",
    "    near = design[0]['near']\n",
    "    far1 = design[0]['far1']\n",
    "    far2 = design[0]['far2']\n",
    "\n",
    "    Tep = getEndpoints(trained)\n",
    "    Nep = getEndpoints(near)\n",
    "    condorder = Tep + Nep\n",
    "\n",
    "    slot1 = load_data_and_apply_mask(this_sub,run_num,roi,obj2cope[condorder[0]])\n",
    "    slot2 = load_data_and_apply_mask(this_sub,run_num,roi,obj2cope[condorder[1]])\n",
    "    slot3 = load_data_and_apply_mask(this_sub,run_num,roi,obj2cope[condorder[2]])\n",
    "    slot4 = load_data_and_apply_mask(this_sub,run_num,roi,obj2cope[condorder[3]])\n",
    "    return np.vstack((slot1,slot2,slot3,slot4))"
   ]
  },
  {
   "cell_type": "markdown",
   "metadata": {},
   "source": [
    "Has too many dependencies to test here; just check revised prepostRSA.ipynb code."
   ]
  }
 ],
 "metadata": {
  "kernelspec": {
   "display_name": "Python 3",
   "language": "python",
   "name": "python3"
  },
  "language_info": {
   "codemirror_mode": {
    "name": "ipython",
    "version": 3
   },
   "file_extension": ".py",
   "mimetype": "text/x-python",
   "name": "python",
   "nbconvert_exporter": "python",
   "pygments_lexer": "ipython3",
   "version": "3.6.1"
  }
 },
 "nbformat": 4,
 "nbformat_minor": 2
}
