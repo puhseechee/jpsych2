{
 "cells": [
  {
   "cell_type": "markdown",
   "metadata": {},
   "source": [
    "# A Simple Scraper For Collecting Images Found Using Google Image Search"
   ]
  },
  {
   "cell_type": "markdown",
   "metadata": {},
   "source": [
    "**How To Use:** First, manually copy the body element via Chrome's Inspect feature into a text document and save it in the notebook directory; include the path to this file in the `searches` parameter below. Running this code should collect all the images associated with each search, and place them in a folder whose name matches that of your search."
   ]
  },
  {
   "cell_type": "code",
   "execution_count": 1,
   "metadata": {},
   "outputs": [],
   "source": [
    "# scraping dependencies\n",
    "import scrapy\n",
    "from scrapy.item import Item, Field\n",
    "from scrapy.crawler import CrawlerProcess\n",
    "from scrapy.selector import Selector\n",
    "from scrapy.pipelines.images import ImagesPipeline\n",
    "import ast\n",
    "from tqdm import tqdm"
   ]
  },
  {
   "cell_type": "code",
   "execution_count": 2,
   "metadata": {},
   "outputs": [],
   "source": [
    "# parameters\n",
    "#searches = ['auditoriums', 'beaches', 'caves', 'cities', 'deserts', 'livingrooms', 'suburbs']\n",
    "searches = ['suburb']\n",
    "targetdirectory = '/Users/jordangunn/Dropbox/imagescrape'"
   ]
  },
  {
   "cell_type": "code",
   "execution_count": 3,
   "metadata": {},
   "outputs": [],
   "source": [
    "# classes defining spider\n",
    "class ImageItem(scrapy.Item):\n",
    "    image_urls = scrapy.Field()\n",
    "    search = scrapy.Field()\n",
    "    \n",
    "class ImageSpider(scrapy.Spider):\n",
    "    name = 'googleimagespider'\n",
    "    custom_settings = {'ITEM_PIPELINES': {'scrapy.pipelines.images.ImagesPipeline': 1},\n",
    "                       'IMAGES_STORE' : targetdirectory,\n",
    "                      'LOG_LEVEL': 'WARNING'}\n",
    "    \n",
    "    def start_requests(self):\n",
    "        baseurl = 'https://www.google.com/'\n",
    "        yield scrapy.Request(baseurl, callback=self.parse)\n",
    "        \n",
    "    def parse(self, response):\n",
    "        for search in searches:\n",
    "            with open(search) as f:\n",
    "                a = Selector(text=f.read())\n",
    "            image = ImageItem()\n",
    "            image['search'] = search\n",
    "            image['image_urls'] = [ast.literal_eval(each.extract())['ou'] for each in a.xpath('//*[@id=\"rg_s\"]/div/div/text()')]\n",
    "            yield image"
   ]
  },
  {
   "cell_type": "code",
   "execution_count": null,
   "metadata": {},
   "outputs": [],
   "source": [
    "# code starting scrape\n",
    "process = CrawlerProcess({'USER_AGENT': 'Mozilla/4.0 (compatible; MSIE 7.0; Windows NT 5.1)'})\n",
    "process.crawl(ImageSpider)\n",
    "process.start()"
   ]
  },
  {
   "cell_type": "code",
   "execution_count": null,
   "metadata": {},
   "outputs": [],
   "source": []
  }
 ],
 "metadata": {
  "kernelspec": {
   "display_name": "Python 3",
   "language": "python",
   "name": "python3"
  },
  "language_info": {
   "codemirror_mode": {
    "name": "ipython",
    "version": 3
   },
   "file_extension": ".py",
   "mimetype": "text/x-python",
   "name": "python",
   "nbconvert_exporter": "python",
   "pygments_lexer": "ipython3",
   "version": "3.6.1"
  }
 },
 "nbformat": 4,
 "nbformat_minor": 2
}
